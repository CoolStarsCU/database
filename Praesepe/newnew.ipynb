{
 "cells": [
  {
   "cell_type": "code",
   "execution_count": 1,
   "metadata": {
    "collapsed": true
   },
   "outputs": [],
   "source": [
    "from astrodbkit import astrodb\n",
    "from astropy.io import fits\n",
    "import pandas as pd\n",
    "import numpy as np\n",
    "import re\n",
    "import io\n",
    "from contextlib import redirect_stdout"
   ]
  },
  {
   "cell_type": "code",
   "execution_count": 2,
   "metadata": {},
   "outputs": [
    {
     "name": "stdout",
     "output_type": "stream",
     "text": [
      "Populating database...\n",
      "Loading changelog\n",
      "Loading ignore\n",
      "Loading modes\n",
      "Loading systems\n",
      "Loading publications\n",
      "Loading instruments\n",
      "Loading telescopes\n",
      "Loading data_requests\n",
      "Loading versions\n",
      "Loading sources\n",
      "Loading photometry\n",
      "Loading spectral_types\n",
      "Loading parallaxes\n",
      "Loading proper_motions\n",
      "Loading radial_velocities\n",
      "Loading spectra\n",
      "Loading companions\n",
      "Loading activity\n",
      "Loading membership\n",
      "Loading models\n",
      "Loading mass\n",
      "Loading rotation\n",
      "Database ready for use\n"
     ]
    }
   ],
   "source": [
    "db = astrodb.Database('praesepeschema.sql', directory='tabledata')"
   ]
  },
  {
   "cell_type": "code",
   "execution_count": 3,
   "metadata": {},
   "outputs": [
    {
     "name": "stdout",
     "output_type": "stream",
     "text": [
      "cid                  name    type notnull dflt_value pk\n",
      "--- --------------------- ------- ------- ---------- --\n",
      "  0                    id INTEGER       1          -  1\n",
      "  1             source_id INTEGER       1          -  0\n",
      "  2 publication_shortname    TEXT       0          -  0\n",
      "  3                period    REAL       0          -  0\n",
      "  4            period_unc    REAL       0          -  0\n",
      "  5          telescope_id INTEGER       0          -  0\n",
      "  6         instrument_id INTEGER       0          -  0\n",
      "  7              comments    TEXT       0          -  0\n",
      "  8                   tau    REAL       0          -  0\n",
      "  9          tau_model_id INTEGER       0          -  0\n",
      " 10               adopted    TEXT       0          -  0\n"
     ]
    }
   ],
   "source": [
    "db.schema('rotation')"
   ]
  },
  {
   "cell_type": "code",
   "execution_count": 9,
   "metadata": {},
   "outputs": [
    {
     "name": "stdout",
     "output_type": "stream",
     "text": [
      "Database ready for use\n"
     ]
    }
   ],
   "source": [
    "db2 = astrodb.Database(\"praesepeschema.db\")"
   ]
  },
  {
   "cell_type": "code",
   "execution_count": 4,
   "metadata": {},
   "outputs": [
    {
     "name": "stdout",
     "output_type": "stream",
     "text": [
      "\n",
      "Database path: praesepeschema.db \n",
      "SQL path: praesepeschema.sql\n",
      "\n",
      "Database Inventory\n",
      "==================\n",
      "SOURCES: 1169\n",
      "CHANGELOG: 0\n",
      "IGNORE: 1\n",
      "MODES: 9\n",
      "SYSTEMS: 18\n",
      "PUBLICATIONS: 8\n",
      "INSTRUMENTS: 51\n",
      "TELESCOPES: 37\n",
      "DATA_REQUESTS: 0\n",
      "VERSIONS: 0\n",
      "PHOTOMETRY: 18704\n",
      "SPECTRAL_TYPES: 0\n",
      "PARALLAXES: 0\n",
      "PROPER_MOTIONS: 1935\n",
      "RADIAL_VELOCITIES: 0\n",
      "SPECTRA: 1372\n",
      "COMPANIONS: 1169\n",
      "ACTIVITY: 770\n",
      "MEMBERSHIP: 1169\n",
      "MODELS: 3\n",
      "MASS: 3507\n",
      "ROTATION: 1006\n"
     ]
    }
   ],
   "source": [
    "db.info()"
   ]
  },
  {
   "cell_type": "code",
   "execution_count": null,
   "metadata": {
    "collapsed": true
   },
   "outputs": [],
   "source": []
  }
 ],
 "metadata": {
  "kernelspec": {
   "display_name": "Python 3",
   "language": "python",
   "name": "python3"
  },
  "language_info": {
   "codemirror_mode": {
    "name": "ipython",
    "version": 3
   },
   "file_extension": ".py",
   "mimetype": "text/x-python",
   "name": "python",
   "nbconvert_exporter": "python",
   "pygments_lexer": "ipython3",
   "version": "3.6.2"
  }
 },
 "nbformat": 4,
 "nbformat_minor": 2
}
