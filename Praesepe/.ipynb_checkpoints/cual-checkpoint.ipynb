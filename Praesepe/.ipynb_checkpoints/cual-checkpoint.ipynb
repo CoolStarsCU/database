{
 "cells": [
  {
   "cell_type": "code",
   "execution_count": 7,
   "metadata": {
    "collapsed": true
   },
   "outputs": [],
   "source": [
    "from astrodbkit import astrodb\n",
    "from astropy.io import fits\n",
    "import pandas as pd\n",
    "import numpy as np\n",
    "import re\n",
    "import io\n",
    "from contextlib import redirect_stdout"
   ]
  },
  {
   "cell_type": "code",
   "execution_count": 8,
   "metadata": {},
   "outputs": [
    {
     "name": "stdout",
     "output_type": "stream",
     "text": [
      "Database ready for use\n"
     ]
    }
   ],
   "source": [
    "db2 = astrodb.Database('cualdatabase.db')"
   ]
  },
  {
   "cell_type": "code",
   "execution_count": 3,
   "metadata": {},
   "outputs": [
    {
     "data": {
      "text/html": [
       "&lt;Table length=1&gt;\n",
       "<table id=\"table139619853463448\" class=\"table-striped table-bordered table-condensed\">\n",
       "<thead><tr><th>id</th><th>source_id</th><th>spectrum</th><th>wavelength_units</th><th>flux_units</th><th>wavelength_order</th><th>regime</th><th>publication_shortname</th><th>obs_date</th><th>instrument_id</th><th>telescope_id</th><th>mode_id</th><th>filename</th><th>comments</th><th>best</th><th>version</th><th>local_spectrum</th></tr></thead>\n",
       "<thead><tr><th>int64</th><th>int64</th><th>object</th><th>object</th><th>object</th><th>object</th><th>str7</th><th>str11</th><th>object</th><th>int64</th><th>int64</th><th>object</th><th>str44</th><th>object</th><th>object</th><th>object</th><th>object</th></tr></thead>\n",
       "<tr><td>415</td><td>307</td><td>&lt;astrodbkit.astrodb.Spectrum object at 0x7efbeb84f7f0&gt;</td><td>None</td><td>None</td><td>None</td><td>optical</td><td>douglas2014</td><td>None</td><td>49</td><td>21</td><td>None</td><td>Praesepe/MODspec/Dec2010_n2/PTF083736.2.fits</td><td>None</td><td>None</td><td>None</td><td>&lt;astrodbkit.astrodb.Spectrum object at 0x7efbc7c4e470&gt;</td></tr>\n",
       "</table>"
      ],
      "text/plain": [
       "<Table length=1>\n",
       "  id  source_id ...                     local_spectrum                    \n",
       "int64   int64   ...                         object                        \n",
       "----- --------- ... ------------------------------------------------------\n",
       "  415       307 ... <astrodbkit.astrodb.Spectrum object at 0x7efbc7c4e470>"
      ]
     },
     "execution_count": 3,
     "metadata": {},
     "output_type": "execute_result"
    }
   ],
   "source": [
    "db2.query(\"SELECT * FROM SPECTRA where source_id = 307\",fetch='one',fmt='table')"
   ]
  },
  {
   "cell_type": "code",
   "execution_count": 11,
   "metadata": {},
   "outputs": [
    {
     "name": "stdout",
     "output_type": "stream",
     "text": [
      "\n",
      "Database path: cualdatabase.db \n",
      "SQL path: cualdatabase.sql\n",
      "\n",
      "Database Inventory\n",
      "==================\n",
      "SOURCES: 1169\n",
      "CHANGELOG: 0\n",
      "IGNORE: 1\n",
      "MODES: 9\n",
      "SYSTEMS: 18\n",
      "PUBLICATIONS: 7\n",
      "INSTRUMENTS: 51\n",
      "TELESCOPES: 37\n",
      "DATA_REQUESTS: 0\n",
      "VERSIONS: 0\n",
      "PHOTOMETRY: 0\n",
      "SPECTRAL_TYPES: 0\n",
      "PARALLAXES: 0\n",
      "PROPER_MOTIONS: 0\n",
      "RADIAL_VELOCITIES: 0\n",
      "SPECTRA: 1372\n",
      "COMPANIONS: 1169\n",
      "ACTIVITY: 770\n",
      "MEMBERSHIP: 1169\n",
      "MODELS: 3\n",
      "MASS: 3507\n",
      "ROTATION: 0\n"
     ]
    }
   ],
   "source": [
    "db2.info()"
   ]
  },
  {
   "cell_type": "code",
   "execution_count": 10,
   "metadata": {},
   "outputs": [
    {
     "name": "stdout",
     "output_type": "stream",
     "text": [
      "Could not retrieve spectrum at $CUAL/Praesepe/KafkaHoneycutt/prae327.text.\n",
      "Could not retrieve spectrum at $CUAL/Praesepe/KafkaHoneycutt/prae327.text.\n",
      "Could not retrieve spectrum at $CUAL/Praesepe/MODspec/Dec2010_n2/PTF083736.2.fits.\n",
      "Could not retrieve spectrum at $CUAL/Praesepe/MODspec/Dec2010_n2/PTF083736.2.fits.\n",
      "Could not retrieve spectrum at $CUAL/Praesepe/MODspec/Dec2010_n3/KW265.fits.\n",
      "Could not retrieve spectrum at $CUAL/Praesepe/MODspec/Dec2010_n3/KW265.fits.\n",
      "Could not retrieve spectrum at $CUAL/Praesepe/MODspec/Dec2010_n2/KW40-West.fits.\n",
      "Could not retrieve spectrum at $CUAL/Praesepe/MODspec/Dec2010_n2/KW40-West.fits.\n",
      "Could not retrieve spectrum at $CUAL/Praesepe/MODspec/Dec2010_n2/KW323.fits.\n",
      "Could not retrieve spectrum at $CUAL/Praesepe/MODspec/Dec2010_n2/KW323.fits.\n",
      "Could not retrieve spectrum at $CUAL/Praesepe/MODspec/Dec2010_n2/KW212.35.fits.\n",
      "Could not retrieve spectrum at $CUAL/Praesepe/MODspec/Dec2010_n2/KW212.35.fits.\n",
      "Could not retrieve spectrum at $CUAL/Praesepe/MODspec/Nov_2012_specs/2012_11_10_finals/KW212.fits.\n",
      "Could not retrieve spectrum at $CUAL/Praesepe/MODspec/Nov_2012_specs/2012_11_10_finals/KW212.fits.\n",
      "Could not retrieve spectrum at $CUAL/Praesepe/MODspec/Dec2010_n2/KW224.fits.\n",
      "Could not retrieve spectrum at $CUAL/Praesepe/MODspec/Dec2010_n2/KW224.fits.\n",
      "Could not retrieve spectrum at $CUAL/Praesepe/MODspec/Dec2010_n3/KW229.fits.\n",
      "Could not retrieve spectrum at $CUAL/Praesepe/MODspec/Dec2010_n3/KW229.fits.\n",
      "Could not retrieve spectrum at $CUAL/Praesepe/MODspec/Dec2010_n2/KW276.85.fits.\n",
      "Could not retrieve spectrum at $CUAL/Praesepe/MODspec/Dec2010_n2/KW276.85.fits.\n",
      "Could not retrieve spectrum at $CUAL/Praesepe/MODspec/Nov_2012_specs/2012_11_10_finals/KW276.fits.\n",
      "Could not retrieve spectrum at $CUAL/Praesepe/MODspec/Nov_2012_specs/2012_11_10_finals/KW276.fits.\n",
      "Could not retrieve spectrum at $CUAL/Praesepe/MODspec/Dec2010_n2/KW292.fits.\n",
      "Could not retrieve spectrum at $CUAL/Praesepe/MODspec/Dec2010_n2/KW292.fits.\n",
      "Could not retrieve spectrum at $CUAL/Praesepe/MODspec/Dec2010_n3/KW328.fits.\n",
      "Could not retrieve spectrum at $CUAL/Praesepe/MODspec/Dec2010_n3/KW328.fits.\n",
      "Could not retrieve spectrum at $CUAL/Praesepe/MODspec/Dec2010_n2/KW428.fits.\n",
      "Could not retrieve spectrum at $CUAL/Praesepe/MODspec/Dec2010_n2/KW428.fits.\n",
      "Could not retrieve spectrum at $CUAL/Praesepe/MODspec/Nov_2012_specs/2012_11_10_finals/KW428.fits.\n",
      "Could not retrieve spectrum at $CUAL/Praesepe/MODspec/Nov_2012_specs/2012_11_10_finals/KW428.fits.\n"
     ]
    },
    {
     "data": {
      "text/plain": [
       "array([ (None, None, 'Praesepe/KafkaHoneycutt/prae327.text', None,  0, 49, '$CUAL/Praesepe/KafkaHoneycutt/prae327.text', None, None, 'douglas2014', 'optical',  1, '$CUAL/Praesepe/KafkaHoneycutt/prae327.text', 21, None, None, None),\n",
       "       (None, None, 'Praesepe/MODspec/Dec2010_n2/PTF083736.2.fits', None,  1, 49, '$CUAL/Praesepe/MODspec/Dec2010_n2/PTF083736.2.fits', None, None, 'douglas2014', 'optical',  2, '$CUAL/Praesepe/MODspec/Dec2010_n2/PTF083736.2.fits', 21, None, None, None),\n",
       "       (None, None, 'Praesepe/MODspec/Dec2010_n3/KW265.fits', None,  2, 49, '$CUAL/Praesepe/MODspec/Dec2010_n3/KW265.fits', None, None, 'douglas2014', 'optical',  3, '$CUAL/Praesepe/MODspec/Dec2010_n3/KW265.fits', 21, None, None, None),\n",
       "       (None, None, None, None,  3, 49, None, None, None, 'douglas2014', 'optical',  4, None, 21, None, None, None),\n",
       "       (None, None, None, None,  4, 49, None, None, None, 'douglas2014', 'optical',  5, None, 21, None, None, None),\n",
       "       (None, None, None, None,  5, 49, None, None, None, 'douglas2014', 'optical',  6, None, 21, None, None, None),\n",
       "       (None, None, 'Praesepe/MODspec/Dec2010_n2/KW40-West.fits', None,  6, 49, '$CUAL/Praesepe/MODspec/Dec2010_n2/KW40-West.fits', None, None, 'douglas2014', 'optical',  7, '$CUAL/Praesepe/MODspec/Dec2010_n2/KW40-West.fits', 21, None, None, None),\n",
       "       (None, None, None, None,  7, 49, None, None, None, 'douglas2014', 'optical',  8, None, 21, None, None, None),\n",
       "       (None, None, 'Praesepe/MODspec/Dec2010_n2/KW323.fits', None,  8, 49, '$CUAL/Praesepe/MODspec/Dec2010_n2/KW323.fits', None, None, 'douglas2014', 'optical',  9, '$CUAL/Praesepe/MODspec/Dec2010_n2/KW323.fits', 21, None, None, None),\n",
       "       (None, None, None, None,  9, 49, None, None, None, 'douglas2014', 'optical', 10, None, 21, None, None, None),\n",
       "       (None, None, None, None, 10, 49, None, None, None, 'douglas2014', 'optical', 11, None, 21, None, None, None),\n",
       "       (None, None, None, None, 11, 49, None, None, None, 'douglas2014', 'optical', 12, None, 21, None, None, None),\n",
       "       (None, None, None, None, 12, 49, None, None, None, 'douglas2014', 'optical', 13, None, 21, None, None, None),\n",
       "       (None, None, None, None, 13, 49, None, None, None, 'douglas2014', 'optical', 14, None, 21, None, None, None),\n",
       "       (None, None, None, None, 14, 49, None, None, None, 'douglas2014', 'optical', 15, None, 21, None, None, None),\n",
       "       (None, None, 'Praesepe/MODspec/Dec2010_n2/KW212.35.fits', None, 15, 49, '$CUAL/Praesepe/MODspec/Dec2010_n2/KW212.35.fits', None, None, 'douglas2014', 'optical', 16, '$CUAL/Praesepe/MODspec/Dec2010_n2/KW212.35.fits', 21, None, None, None),\n",
       "       (None, None, 'Praesepe/MODspec/Nov_2012_specs/2012_11_10_finals/KW212.fits', None, 16, 49, '$CUAL/Praesepe/MODspec/Nov_2012_specs/2012_11_10_finals/KW212.fits', None, None, 'douglas2014', 'optical', 16, '$CUAL/Praesepe/MODspec/Nov_2012_specs/2012_11_10_finals/KW212.fits', 21, None, None, None),\n",
       "       (None, None, 'Praesepe/MODspec/Dec2010_n2/KW224.fits', None, 17, 49, '$CUAL/Praesepe/MODspec/Dec2010_n2/KW224.fits', None, None, 'douglas2014', 'optical', 17, '$CUAL/Praesepe/MODspec/Dec2010_n2/KW224.fits', 21, None, None, None),\n",
       "       (None, None, 'Praesepe/MODspec/Dec2010_n3/KW229.fits', None, 18, 49, '$CUAL/Praesepe/MODspec/Dec2010_n3/KW229.fits', None, None, 'douglas2014', 'optical', 18, '$CUAL/Praesepe/MODspec/Dec2010_n3/KW229.fits', 21, None, None, None),\n",
       "       (None, None, 'Praesepe/MODspec/Dec2010_n2/KW276.85.fits', None, 19, 49, '$CUAL/Praesepe/MODspec/Dec2010_n2/KW276.85.fits', None, None, 'douglas2014', 'optical', 19, '$CUAL/Praesepe/MODspec/Dec2010_n2/KW276.85.fits', 21, None, None, None),\n",
       "       (None, None, 'Praesepe/MODspec/Nov_2012_specs/2012_11_10_finals/KW276.fits', None, 20, 49, '$CUAL/Praesepe/MODspec/Nov_2012_specs/2012_11_10_finals/KW276.fits', None, None, 'douglas2014', 'optical', 19, '$CUAL/Praesepe/MODspec/Nov_2012_specs/2012_11_10_finals/KW276.fits', 21, None, None, None),\n",
       "       (None, None, None, None, 21, 49, None, None, None, 'douglas2014', 'optical', 20, None, 21, None, None, None),\n",
       "       (None, None, None, None, 22, 49, None, None, None, 'douglas2014', 'optical', 21, None, 21, None, None, None),\n",
       "       (None, None, 'Praesepe/MODspec/Dec2010_n2/KW292.fits', None, 23, 49, '$CUAL/Praesepe/MODspec/Dec2010_n2/KW292.fits', None, None, 'douglas2014', 'optical', 22, '$CUAL/Praesepe/MODspec/Dec2010_n2/KW292.fits', 21, None, None, None),\n",
       "       (None, None, None, None, 24, 49, None, None, None, 'douglas2014', 'optical', 23, None, 21, None, None, None),\n",
       "       (None, None, 'Praesepe/MODspec/Dec2010_n3/KW328.fits', None, 25, 49, '$CUAL/Praesepe/MODspec/Dec2010_n3/KW328.fits', None, None, 'douglas2014', 'optical', 24, '$CUAL/Praesepe/MODspec/Dec2010_n3/KW328.fits', 21, None, None, None),\n",
       "       (None, None, None, None, 26, 49, None, None, None, 'douglas2014', 'optical', 25, None, 21, None, None, None),\n",
       "       (None, None, 'Praesepe/MODspec/Dec2010_n2/KW428.fits', None, 27, 49, '$CUAL/Praesepe/MODspec/Dec2010_n2/KW428.fits', None, None, 'douglas2014', 'optical', 26, '$CUAL/Praesepe/MODspec/Dec2010_n2/KW428.fits', 21, None, None, None),\n",
       "       (None, None, 'Praesepe/MODspec/Nov_2012_specs/2012_11_10_finals/KW428.fits', None, 28, 49, '$CUAL/Praesepe/MODspec/Nov_2012_specs/2012_11_10_finals/KW428.fits', None, None, 'douglas2014', 'optical', 26, '$CUAL/Praesepe/MODspec/Nov_2012_specs/2012_11_10_finals/KW428.fits', 21, None, None, None),\n",
       "       (None, None, None, None, 29, 49, None, None, None, 'douglas2014', 'optical', 27, None, 21, None, None, None)],\n",
       "      dtype=[('best', 'O'), ('comments', 'O'), ('filename', 'O'), ('flux_units', 'O'), ('id', '<i8'), ('instrument_id', '<i8'), ('local_spectrum', 'O'), ('mode_id', 'O'), ('obs_date', 'O'), ('publication_shortname', '<U11'), ('regime', '<U7'), ('source_id', '<i8'), ('spectrum', 'O'), ('telescope_id', '<i8'), ('version', 'O'), ('wavelength_order', 'O'), ('wavelength_units', 'O')])"
      ]
     },
     "execution_count": 10,
     "metadata": {},
     "output_type": "execute_result"
    }
   ],
   "source": [
    "db2.query('SELECT * FROM SPECTRA LIMIT 30')"
   ]
  },
  {
   "cell_type": "code",
   "execution_count": null,
   "metadata": {
    "collapsed": true
   },
   "outputs": [],
   "source": []
  }
 ],
 "metadata": {
  "kernelspec": {
   "display_name": "Python 3",
   "language": "python",
   "name": "python3"
  },
  "language_info": {
   "codemirror_mode": {
    "name": "ipython",
    "version": 3
   },
   "file_extension": ".py",
   "mimetype": "text/x-python",
   "name": "python",
   "nbconvert_exporter": "python",
   "pygments_lexer": "ipython3",
   "version": "3.6.2"
  }
 },
 "nbformat": 4,
 "nbformat_minor": 2
}
